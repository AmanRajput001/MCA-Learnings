{
 "cells": [
  {
   "cell_type": "markdown",
   "metadata": {},
   "source": [
    "**Write a Python program to find out what version of Python you are using.**"
   ]
  },
  {
   "cell_type": "code",
   "execution_count": 5,
   "metadata": {},
   "outputs": [
    {
     "name": "stdout",
     "output_type": "stream",
     "text": [
      "Python 3.8.10\n"
     ]
    }
   ],
   "source": [
    "!python --version"
   ]
  },
  {
   "cell_type": "markdown",
   "metadata": {},
   "source": [
    "**Write a Python program to display the current date and time.**"
   ]
  },
  {
   "cell_type": "code",
   "execution_count": 9,
   "metadata": {},
   "outputs": [
    {
     "name": "stdout",
     "output_type": "stream",
     "text": [
      "2024-02-13 15:21:34.497660\n"
     ]
    }
   ],
   "source": [
    "import datetime \n",
    "\n",
    "print(datetime.datetime.now())"
   ]
  },
  {
   "cell_type": "markdown",
   "metadata": {},
   "source": [
    "**Write a Python program that calculates the area of a circle based on the radius entered by the user.**"
   ]
  },
  {
   "cell_type": "code",
   "execution_count": 11,
   "metadata": {},
   "outputs": [
    {
     "name": "stdout",
     "output_type": "stream",
     "text": [
      "Entered Radius is 12.0\n",
      "Area of circle is : 452.3893421169302\n"
     ]
    }
   ],
   "source": [
    "import math\n",
    "radius = (float)(input(\"Enter the Radius: \"))\n",
    "print(\"Entered Radius is {}\".format(radius))\n",
    "print(f\"Area of circle is : {(radius**2 * math.pi)}\")"
   ]
  },
  {
   "cell_type": "markdown",
   "metadata": {},
   "source": [
    "**Write a Python program that accepts the user's first and last name and prints them in reverse order with a space between them.**"
   ]
  },
  {
   "cell_type": "code",
   "execution_count": 14,
   "metadata": {},
   "outputs": [
    {
     "name": "stdout",
     "output_type": "stream",
     "text": [
      "first name: Aman \n",
      "last name: Rajput\n",
      "In reverse order :- Rajput Aman\n"
     ]
    }
   ],
   "source": [
    "fname = input(\"Enter first name: \")\n",
    "lname = input(\"Enter last name: \")\n",
    "\n",
    "print(f\"first name: {fname} \\nlast name: {lname}\")\n",
    "print(\"In reverse order :- \", end=\"\")\n",
    "print(lname,fname)"
   ]
  },
  {
   "cell_type": "markdown",
   "metadata": {},
   "source": [
    "**Write a Python program that accepts a filename from the user and prints the extension of the file.**"
   ]
  },
  {
   "cell_type": "code",
   "execution_count": 17,
   "metadata": {},
   "outputs": [
    {
     "name": "stdout",
     "output_type": "stream",
     "text": [
      "Filename is:  Ques.cpp\n",
      "Extension is:  cpp\n"
     ]
    }
   ],
   "source": [
    "file = input(\"Enter file name with extension: \")\n",
    "print(f\"Filename is: \", file)\n",
    "str = file.split(\".\")\n",
    "print(\"Extension is: \", str[1])"
   ]
  }
 ],
 "metadata": {
  "kernelspec": {
   "display_name": "Python 3",
   "language": "python",
   "name": "python3"
  },
  "language_info": {
   "codemirror_mode": {
    "name": "ipython",
    "version": 3
   },
   "file_extension": ".py",
   "mimetype": "text/x-python",
   "name": "python",
   "nbconvert_exporter": "python",
   "pygments_lexer": "ipython3",
   "version": "3.8.10"
  }
 },
 "nbformat": 4,
 "nbformat_minor": 2
}
