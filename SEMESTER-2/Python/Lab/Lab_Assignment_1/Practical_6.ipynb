{
 "cells": [
  {
   "cell_type": "markdown",
   "metadata": {},
   "source": [
    "**6. Implement a Python function to reverse a given string. Test your function with different input strings.**"
   ]
  },
  {
   "cell_type": "code",
   "execution_count": 4,
   "metadata": {},
   "outputs": [],
   "source": [
    "def reverse(string):\n",
    "    return string[::-1]"
   ]
  },
  {
   "cell_type": "code",
   "execution_count": 5,
   "metadata": {},
   "outputs": [
    {
     "name": "stdout",
     "output_type": "stream",
     "text": [
      "Entered string is CDAC\n",
      "Reverse of string is : CADC\n"
     ]
    }
   ],
   "source": [
    "string1 = input(\"Enter a string: \")\n",
    "print(f\"Entered string is {string1}\")\n",
    "print(f\"Reverse of string is : {reverse(string1)}\")"
   ]
  },
  {
   "cell_type": "code",
   "execution_count": 6,
   "metadata": {},
   "outputs": [
    {
     "name": "stdout",
     "output_type": "stream",
     "text": [
      "Entered string is Ministry\n",
      "Reverse of string is : yrtsiniM\n"
     ]
    }
   ],
   "source": [
    "string2 = input(\"Enter a string: \")\n",
    "print(f\"Entered string is {string2}\")\n",
    "print(f\"Reverse of string is : {reverse(string2)}\")"
   ]
  }
 ],
 "metadata": {
  "kernelspec": {
   "display_name": "Python 3",
   "language": "python",
   "name": "python3"
  },
  "language_info": {
   "codemirror_mode": {
    "name": "ipython",
    "version": 3
   },
   "file_extension": ".py",
   "mimetype": "text/x-python",
   "name": "python",
   "nbconvert_exporter": "python",
   "pygments_lexer": "ipython3",
   "version": "3.8.10"
  }
 },
 "nbformat": 4,
 "nbformat_minor": 2
}
