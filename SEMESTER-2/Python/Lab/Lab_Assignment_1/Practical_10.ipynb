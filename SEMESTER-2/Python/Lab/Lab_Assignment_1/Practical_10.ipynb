{
 "cells": [
  {
   "cell_type": "markdown",
   "metadata": {},
   "source": [
    "**10. Develop a Python function to calculate the simple interest given the principal amount, rate, and time period. Ensure your function returns the calculated interest.**"
   ]
  },
  {
   "cell_type": "code",
   "execution_count": 4,
   "metadata": {},
   "outputs": [],
   "source": [
    "def simpleIntrest(principle, rate, time):\n",
    "    simpleIntrest_amount = (principle * rate * time)/100\n",
    "    return simpleIntrest_amount\n",
    "\n",
    "def main():\n",
    "    principle = float(input(\"Enter Priciple amount: \"))\n",
    "    rate = float(input(\"Enter Rate: \"))\n",
    "    time = float(input(\"Enter Time Period (in year's): \"))\n",
    "\n",
    "    print(f\" Principle amount is {principle}\\n Rate is {rate}\\n Time Period is {time}.\")\n",
    "    print(\"Simple Interest is: \", simpleIntrest(principle, rate, time))   "
   ]
  },
  {
   "cell_type": "code",
   "execution_count": 5,
   "metadata": {},
   "outputs": [
    {
     "name": "stdout",
     "output_type": "stream",
     "text": [
      " Principle amount is 12000.0\n",
      " Rate is 8.0\n",
      " Time Period is 5.0.\n",
      "Simple Interest is:  4800.0\n"
     ]
    }
   ],
   "source": [
    "main()"
   ]
  }
 ],
 "metadata": {
  "kernelspec": {
   "display_name": "Python 3",
   "language": "python",
   "name": "python3"
  },
  "language_info": {
   "codemirror_mode": {
    "name": "ipython",
    "version": 3
   },
   "file_extension": ".py",
   "mimetype": "text/x-python",
   "name": "python",
   "nbconvert_exporter": "python",
   "pygments_lexer": "ipython3",
   "version": "3.8.10"
  }
 },
 "nbformat": 4,
 "nbformat_minor": 2
}
