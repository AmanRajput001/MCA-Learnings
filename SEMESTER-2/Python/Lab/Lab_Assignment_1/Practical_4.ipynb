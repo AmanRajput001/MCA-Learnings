{
 "cells": [
  {
   "cell_type": "markdown",
   "metadata": {},
   "source": [
    "**4. Write a Python function to determine if a given number is prime or not. Test your function with various input numbers.**"
   ]
  },
  {
   "cell_type": "code",
   "execution_count": 6,
   "metadata": {},
   "outputs": [],
   "source": [
    "def checkPrime(n):\n",
    "    if(n <= 1):\n",
    "        return False\n",
    "    \n",
    "    i = 2\n",
    "    while(i*i <= n):\n",
    "        if(n % 2 == 0):\n",
    "            return False\n",
    "        i += 1\n",
    "    \n",
    "    return True"
   ]
  },
  {
   "cell_type": "code",
   "execution_count": 7,
   "metadata": {},
   "outputs": [
    {
     "name": "stdout",
     "output_type": "stream",
     "text": [
      "Entered number is 11.\n",
      "11 is prime number.\n"
     ]
    }
   ],
   "source": [
    "n = int(input(\"Enter number: \"))\n",
    "print(f\"Entered number is {n}.\")\n",
    "if(checkPrime(n)):\n",
    "    print(f\"{n} is prime number.\")\n",
    "else:\n",
    "    print(f\"{n} is not prime number.\")"
   ]
  },
  {
   "cell_type": "code",
   "execution_count": 8,
   "metadata": {},
   "outputs": [
    {
     "name": "stdout",
     "output_type": "stream",
     "text": [
      "Entered number is 122.\n",
      "122 is not prime number.\n"
     ]
    }
   ],
   "source": [
    "n = int(input(\"Enter number: \"))\n",
    "print(f\"Entered number is {n}.\")\n",
    "if(checkPrime(n)):\n",
    "    print(f\"{n} is prime number.\")\n",
    "else:\n",
    "    print(f\"{n} is not prime number.\")"
   ]
  }
 ],
 "metadata": {
  "kernelspec": {
   "display_name": "Python 3",
   "language": "python",
   "name": "python3"
  },
  "language_info": {
   "codemirror_mode": {
    "name": "ipython",
    "version": 3
   },
   "file_extension": ".py",
   "mimetype": "text/x-python",
   "name": "python",
   "nbconvert_exporter": "python",
   "pygments_lexer": "ipython3",
   "version": "3.8.10"
  }
 },
 "nbformat": 4,
 "nbformat_minor": 2
}
