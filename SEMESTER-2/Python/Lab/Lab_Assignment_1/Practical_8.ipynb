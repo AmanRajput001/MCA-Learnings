{
 "cells": [
  {
   "cell_type": "markdown",
   "metadata": {},
   "source": [
    "**8. Create a Python function to determine if a given year is a leap year or not. A leap year is divisible by 4, but not by 100 unless it is also divisible by 400.**"
   ]
  },
  {
   "cell_type": "code",
   "execution_count": 1,
   "metadata": {},
   "outputs": [],
   "source": [
    "def checkLeapYear(year):\n",
    "    if(year % 4 == 0):\n",
    "        if (year % 100 != 0):\n",
    "            return True\n",
    "        else:\n",
    "            if(year % 400 == 0):\n",
    "                return True\n",
    "    else:\n",
    "        return False\n"
   ]
  },
  {
   "cell_type": "code",
   "execution_count": 2,
   "metadata": {},
   "outputs": [
    {
     "name": "stdout",
     "output_type": "stream",
     "text": [
      "Entered year is :  2016\n",
      "2016  is leap year =>  True\n"
     ]
    }
   ],
   "source": [
    "year = int(input(\"Enter the year: \"))\n",
    "print(\"Entered year is : \", year)\n",
    "print(year, \" is leap year => \", checkLeapYear(year))"
   ]
  },
  {
   "cell_type": "code",
   "execution_count": 3,
   "metadata": {},
   "outputs": [
    {
     "name": "stdout",
     "output_type": "stream",
     "text": [
      "Entered year is :  2019\n",
      "2019  is leap year =>  False\n"
     ]
    }
   ],
   "source": [
    "year = int(input(\"Enter the year: \"))\n",
    "print(\"Entered year is : \", year)\n",
    "print(year, \" is leap year => \", checkLeapYear(year))"
   ]
  }
 ],
 "metadata": {
  "kernelspec": {
   "display_name": "Python 3",
   "language": "python",
   "name": "python3"
  },
  "language_info": {
   "codemirror_mode": {
    "name": "ipython",
    "version": 3
   },
   "file_extension": ".py",
   "mimetype": "text/x-python",
   "name": "python",
   "nbconvert_exporter": "python",
   "pygments_lexer": "ipython3",
   "version": "3.8.10"
  }
 },
 "nbformat": 4,
 "nbformat_minor": 2
}
