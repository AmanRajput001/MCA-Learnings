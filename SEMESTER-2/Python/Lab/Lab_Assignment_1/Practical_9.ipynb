{
 "cells": [
  {
   "cell_type": "markdown",
   "metadata": {},
   "source": [
    "**9. Write a Python function to convert temperature from Celsius to Fahrenheit and vice versa. You can provide options for the user to choose the conversion type.**"
   ]
  },
  {
   "cell_type": "code",
   "execution_count": 3,
   "metadata": {},
   "outputs": [],
   "source": [
    "def celsius_to_fahrenheit(celsius):\n",
    "    fahrenheit = (celsius * 9/5) + 32\n",
    "    return fahrenheit\n",
    "\n",
    "def fahrenheit_to_celsius(fahrenheit):\n",
    "    celsius = (fahrenheit - 32) * 5/9\n",
    "    return celsius\n"
   ]
  },
  {
   "cell_type": "code",
   "execution_count": 7,
   "metadata": {},
   "outputs": [
    {
     "name": "stdout",
     "output_type": "stream",
     "text": [
      "123.0 Celsius is equal to 253.4 Fahrenheit\n"
     ]
    }
   ],
   "source": [
    "temp = float(input(\"Enter the temperature: \"))\n",
    "choice = input('''Enter the choice\\n\n",
    "                  1. celsius_to_fahrenheit\\n \n",
    "                  2. fahrenheit_to_celsius\\n\n",
    "                  enter:''')\n",
    "\n",
    "if(choice == '1'):   \n",
    "    print(f\"{temp} Celsius is equal to {celsius_to_fahrenheit(temp)} Fahrenheit\")\n",
    "\n",
    "elif(choice == '2'):    \n",
    "    print(f\"{temp} Fahrenheit is equal to {fahrenheit_to_celsius(temp)} Celsius\")\n",
    "\n",
    "else:\n",
    "    print(\"No such choice !!\")\n"
   ]
  }
 ],
 "metadata": {
  "kernelspec": {
   "display_name": "Python 3",
   "language": "python",
   "name": "python3"
  },
  "language_info": {
   "codemirror_mode": {
    "name": "ipython",
    "version": 3
   },
   "file_extension": ".py",
   "mimetype": "text/x-python",
   "name": "python",
   "nbconvert_exporter": "python",
   "pygments_lexer": "ipython3",
   "version": "3.8.10"
  }
 },
 "nbformat": 4,
 "nbformat_minor": 2
}
