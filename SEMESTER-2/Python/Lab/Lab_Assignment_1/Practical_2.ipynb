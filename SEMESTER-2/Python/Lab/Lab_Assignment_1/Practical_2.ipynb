{
 "cells": [
  {
   "cell_type": "markdown",
   "metadata": {},
   "source": [
    "**2. Create a Python function to calculate the factorial of a non-negative integer. Ensure your function handles edge cases such as 0 and negative integers gracefully.**"
   ]
  },
  {
   "cell_type": "code",
   "execution_count": 4,
   "metadata": {},
   "outputs": [
    {
     "name": "stdout",
     "output_type": "stream",
     "text": [
      "120\n"
     ]
    }
   ],
   "source": [
    "def factorial(n):\n",
    "    if(n < 0):\n",
    "        print(\"'n' must be positive\")\n",
    "    elif(n == 0):\n",
    "        return 1\n",
    "    else:\n",
    "        fac = 1\n",
    "        for i in range(1, n+1):\n",
    "            fac *= i\n",
    "        return fac  \n",
    "\n",
    "print(factorial(5))"
   ]
  }
 ],
 "metadata": {
  "kernelspec": {
   "display_name": "Python 3",
   "language": "python",
   "name": "python3"
  },
  "language_info": {
   "codemirror_mode": {
    "name": "ipython",
    "version": 3
   },
   "file_extension": ".py",
   "mimetype": "text/x-python",
   "name": "python",
   "nbconvert_exporter": "python",
   "pygments_lexer": "ipython3",
   "version": "3.8.10"
  }
 },
 "nbformat": 4,
 "nbformat_minor": 2
}
