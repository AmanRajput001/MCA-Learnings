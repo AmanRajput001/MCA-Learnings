{
 "cells": [
  {
   "cell_type": "markdown",
   "metadata": {},
   "source": [
    "**1. Write a Python function to check if a given string is a palindrome (reads the same forwards and backwards). Test your function with various input strings.**"
   ]
  },
  {
   "cell_type": "code",
   "execution_count": 2,
   "metadata": {},
   "outputs": [
    {
     "name": "stdout",
     "output_type": "stream",
     "text": [
      "Entered string is Aman\n",
      "Given string is not plaindrom.\n",
      "----------------------------------------------\n",
      "Entered string is MEEM\n",
      "Given string is plaindrom.\n"
     ]
    }
   ],
   "source": [
    "def plaindrom():\n",
    "    str = input(\"Enter a string: \")\n",
    "\n",
    "    print(f\"Entered string is {str}\")\n",
    "\n",
    "    if str == str[::-1]:\n",
    "        print(\"Given string is plaindrom.\")\n",
    "    else:\n",
    "        print(\"Given string is not plaindrom.\")\n",
    "\n",
    "plaindrom()\n",
    "print(\"----------------------------------------------\")\n",
    "plaindrom()\n"
   ]
  }
 ],
 "metadata": {
  "kernelspec": {
   "display_name": "Python 3",
   "language": "python",
   "name": "python3"
  },
  "language_info": {
   "codemirror_mode": {
    "name": "ipython",
    "version": 3
   },
   "file_extension": ".py",
   "mimetype": "text/x-python",
   "name": "python",
   "nbconvert_exporter": "python",
   "pygments_lexer": "ipython3",
   "version": "3.8.10"
  }
 },
 "nbformat": 4,
 "nbformat_minor": 2
}
