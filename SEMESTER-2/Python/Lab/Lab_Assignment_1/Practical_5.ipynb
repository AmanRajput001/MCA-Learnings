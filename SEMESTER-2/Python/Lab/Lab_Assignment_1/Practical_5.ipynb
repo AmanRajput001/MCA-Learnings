{
 "cells": [
  {
   "cell_type": "markdown",
   "metadata": {},
   "source": [
    "**5. Develop a Python function that calculates the sum of digits in a given integer. For example, the sum of digits for 123 should be 1+2+3 = 6.**"
   ]
  },
  {
   "cell_type": "code",
   "execution_count": 3,
   "metadata": {},
   "outputs": [
    {
     "name": "stdout",
     "output_type": "stream",
     "text": [
      "Entered number is 123.\n",
      "sum is :  6\n"
     ]
    }
   ],
   "source": [
    "def calSum(num):\n",
    "    sum = 0\n",
    "    for d in num:\n",
    "        sum = sum + int(d)\n",
    "    return sum \n",
    "\n",
    "n = input(\"Enter the number: \")\n",
    "print(f\"Entered number is {n}.\")\n",
    "sum = calSum(n)\n",
    "print(\"sum is : \", sum)"
   ]
  },
  {
   "cell_type": "code",
   "execution_count": null,
   "metadata": {},
   "outputs": [],
   "source": []
  }
 ],
 "metadata": {
  "kernelspec": {
   "display_name": "Python 3",
   "language": "python",
   "name": "python3"
  },
  "language_info": {
   "codemirror_mode": {
    "name": "ipython",
    "version": 3
   },
   "file_extension": ".py",
   "mimetype": "text/x-python",
   "name": "python",
   "nbconvert_exporter": "python",
   "pygments_lexer": "ipython3",
   "version": "3.8.10"
  }
 },
 "nbformat": 4,
 "nbformat_minor": 2
}
