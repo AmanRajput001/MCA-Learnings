{
 "cells": [
  {
   "cell_type": "markdown",
   "metadata": {},
   "source": [
    "**3. Implement a Python program that prints numbers from 1 to 100. For multiples of three, print \"Fizz\" instead of the number, and for multiples of five, print \"Buzz\". For numbers which are multiples of both three and five, print \"FizzBuzz\".**"
   ]
  },
  {
   "cell_type": "code",
   "execution_count": 36,
   "metadata": {},
   "outputs": [
    {
     "name": "stdout",
     "output_type": "stream",
     "text": [
      "  1       2       Fizz     4       Buzz       Fizz     7       8       Fizz     Buzz     \n",
      "  11       Fizz     13       14       FizzBuzz   16       17       Fizz     19       Buzz     \n",
      "  Fizz     22       23       Fizz     Buzz       26       Fizz     28       29       FizzBuzz \n",
      "  31       32       Fizz     34       Buzz       Fizz     37       38       Fizz     Buzz     \n",
      "  41       Fizz     43       44       FizzBuzz   46       47       Fizz     49       Buzz     \n",
      "  Fizz     52       53       Fizz     Buzz       56       Fizz     58       59       FizzBuzz \n",
      "  61       62       Fizz     64       Buzz       Fizz     67       68       Fizz     Buzz     \n",
      "  71       Fizz     73       74       FizzBuzz   76       77       Fizz     79       Buzz     \n",
      "  Fizz     82       83       Fizz     Buzz       86       Fizz     88       89       FizzBuzz \n",
      "  91       92       Fizz     94       Buzz       Fizz     97       98       Fizz     Buzz     \n"
     ]
    }
   ],
   "source": [
    "for num in range(1,101):\n",
    "    if(num % 3 == 0 and num % 5 == 0):\n",
    "        print(\"  FizzBuzz \", end= \"\")\n",
    "    elif(num % 3 == 0):\n",
    "        print(\"  Fizz   \", end= \"\")    \n",
    "    elif(num % 5 == 0):\n",
    "        print(\"  Buzz     \", end= \"\")\n",
    "    else:\n",
    "        print(f\"  {num}     \", end= \"\")\n",
    "    \n",
    "    if(num % 10 == 0):\n",
    "        print()\n",
    "    "
   ]
  }
 ],
 "metadata": {
  "kernelspec": {
   "display_name": "Python 3",
   "language": "python",
   "name": "python3"
  },
  "language_info": {
   "codemirror_mode": {
    "name": "ipython",
    "version": 3
   },
   "file_extension": ".py",
   "mimetype": "text/x-python",
   "name": "python",
   "nbconvert_exporter": "python",
   "pygments_lexer": "ipython3",
   "version": "3.8.10"
  }
 },
 "nbformat": 4,
 "nbformat_minor": 2
}
