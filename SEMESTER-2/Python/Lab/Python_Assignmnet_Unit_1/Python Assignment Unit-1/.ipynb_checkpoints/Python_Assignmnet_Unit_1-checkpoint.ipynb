{
 "cells": [
  {
   "cell_type": "markdown",
   "metadata": {},
   "source": [
    "_**Python Assigment Unit-1**_ \n",
    "                                                               \n"
   ]
  },
  {
   "cell_type": "code",
   "execution_count": 6,
   "metadata": {},
   "outputs": [
    {
     "name": "stdin",
     "output_type": "stream",
     "text": [
      "Enter number:  11\n"
     ]
    },
    {
     "name": "stdout",
     "output_type": "stream",
     "text": [
      "11 is a  Odd\n"
     ]
    }
   ],
   "source": [
    "# 1.\tWrite a Python function to check if a given number is even or odd and return the result.\n",
    "\n",
    "def checkNumber(num):\n",
    "    if((num % 2) == 0):\n",
    "        return \"Even\"\n",
    "    else:\n",
    "        return \"Odd\"\n",
    "\n",
    "def main():\n",
    "    num = int(input(\"Enter number: \"))\n",
    "\n",
    "    print(num, \"is a \", checkNumber(num))\n",
    "\n",
    "if __name__ == '__main__':\n",
    "    main()\n",
    "        "
   ]
  },
  {
   "cell_type": "code",
   "execution_count": 10,
   "metadata": {},
   "outputs": [
    {
     "name": "stdin",
     "output_type": "stream",
     "text": [
      "Enter the age:  19\n"
     ]
    },
    {
     "name": "stdout",
     "output_type": "stream",
     "text": [
      "You are Eligible for vote.\n"
     ]
    }
   ],
   "source": [
    "# 2.\tCreate a program that prompts the user for their age and uses a function to determine if they are eligible to vote (18 years or older).\n",
    "\n",
    "def checkEligibility(age):\n",
    "    if(age >= 18):\n",
    "        return True\n",
    "    else:\n",
    "        return False\n",
    "\n",
    "def main():\n",
    "    age = int(input(\"Enter the age: \"))\n",
    "\n",
    "    if(checkEligibility(age)):\n",
    "        print(\"You are Eligible for vote.\")\n",
    "    else:\n",
    "        print(\"You are not Eligible for vote.\")\n",
    "\n",
    "if __name__ == '__main__':\n",
    "    main()"
   ]
  },
  {
   "cell_type": "code",
   "execution_count": 1,
   "metadata": {},
   "outputs": [
    {
     "name": "stdin",
     "output_type": "stream",
     "text": [
      "Enter number:  100\n",
      "Wants to enter more numbers press 'Y':  Y\n",
      "Enter number:  101\n",
      "Wants to enter more numbers press 'Y':  Y\n",
      "Enter number:  1\n",
      "Wants to enter more numbers press 'Y':  Y\n",
      "Enter number:  2\n",
      "Wants to enter more numbers press 'Y':  y\n",
      "Enter number:  3\n",
      "Wants to enter more numbers press 'Y':  y\n",
      "Enter number:  4\n",
      "Wants to enter more numbers press 'Y':  Y\n",
      "Enter number:  5\n",
      "Wants to enter more numbers press 'Y':  E\n"
     ]
    },
    {
     "name": "stdout",
     "output_type": "stream",
     "text": [
      "\n",
      " Entered List is:  100 101 1 2 3 4 5 \n",
      "Sum is:  216\n"
     ]
    }
   ],
   "source": [
    "#3.\tWrite a Python function that takes a list of numbers as input and returns the sum of all the numbers\n",
    "\n",
    "def sumNumbers(lt):\n",
    "    sum = 0\n",
    "    for num in lt:\n",
    "        sum += num\n",
    "    return sum\n",
    "\n",
    "def displayList(lt):\n",
    "    for num in lt:\n",
    "        print(num, end = \" \")\n",
    "        \n",
    "def main():\n",
    "    lt = list()\n",
    "    \n",
    "    while(True):\n",
    "        num = int(input(\"Enter number: \"))\n",
    "        lt.append(num)\n",
    "        \n",
    "        check = input(\"Wants to enter more numbers press 'Y': \")\n",
    "        if(check == 'Y' or check == 'y'):\n",
    "            continue\n",
    "        else:\n",
    "            break\n",
    "\n",
    "    print(\"\\n Entered List is: \", end = \" \")\n",
    "    displayList(lt)\n",
    "    print(\"\\nSum is: \", sumNumbers(lt))\n",
    "    \n",
    "\n",
    "if __name__ == '__main__':\n",
    "    main()"
   ]
  },
  {
   "cell_type": "code",
   "execution_count": 6,
   "metadata": {},
   "outputs": [
    {
     "name": "stdin",
     "output_type": "stream",
     "text": [
      "Enter the number:  -2829\n"
     ]
    },
    {
     "name": "stdout",
     "output_type": "stream",
     "text": [
      "Number is Negative.\n"
     ]
    }
   ],
   "source": [
    "# 4.\tDevelop a program that uses a function to check if a given number is positive, negative, or zero.\n",
    "\n",
    "def checkNumber(num):\n",
    "    if(num == 0):\n",
    "        print(\"Number is Zero.\")\n",
    "    elif(num > 0):\n",
    "        print(\"Number is Positive.\")\n",
    "    else:\n",
    "        print(\"Number is Negative.\")\n",
    "\n",
    "def main():\n",
    "    num = int(input(\"Enter the number: \"))\n",
    "    checkNumber(num)\n",
    "\n",
    "if __name__ == \"__main__\":\n",
    "    main()"
   ]
  },
  {
   "cell_type": "code",
   "execution_count": 7,
   "metadata": {},
   "outputs": [
    {
     "ename": "ModuleNotFoundError",
     "evalue": "No module named 'calculator'",
     "output_type": "error",
     "traceback": [
      "\u001b[0;31m---------------------------------------------------------------------------\u001b[0m",
      "\u001b[0;31mModuleNotFoundError\u001b[0m                       Traceback (most recent call last)",
      "Cell \u001b[0;32mIn[7], line 3\u001b[0m\n\u001b[1;32m      1\u001b[0m \u001b[38;5;66;03m# 5.\tCreate a Python module named \"calculator\" containing functions for addition, subtraction, multiplication, and division. \u001b[39;00m\n\u001b[1;32m      2\u001b[0m \u001b[38;5;66;03m#       Import this module into your main program and use its functions.\u001b[39;00m\n\u001b[0;32m----> 3\u001b[0m \u001b[38;5;28;01mimport\u001b[39;00m \u001b[38;5;21;01mcalculator\u001b[39;00m\n",
      "\u001b[0;31mModuleNotFoundError\u001b[0m: No module named 'calculator'"
     ]
    }
   ],
   "source": [
    "# 5.\tCreate a Python module named \"calculator\" containing functions for addition, subtraction, multiplication, and division. \n",
    "#       Import this module into your main program and use its functions.\n",
    "import calculator"
   ]
  },
  {
   "cell_type": "code",
   "execution_count": null,
   "metadata": {},
   "outputs": [],
   "source": []
  }
 ],
 "metadata": {
  "kernelspec": {
   "display_name": "Python 3 (ipykernel)",
   "language": "python",
   "name": "python3"
  },
  "language_info": {
   "codemirror_mode": {
    "name": "ipython",
    "version": 3
   },
   "file_extension": ".py",
   "mimetype": "text/x-python",
   "name": "python",
   "nbconvert_exporter": "python",
   "pygments_lexer": "ipython3",
   "version": "3.10.13"
  }
 },
 "nbformat": 4,
 "nbformat_minor": 4
}
