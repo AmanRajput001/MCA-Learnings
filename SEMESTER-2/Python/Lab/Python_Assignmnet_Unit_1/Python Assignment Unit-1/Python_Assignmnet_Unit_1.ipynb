{
 "cells": [
  {
   "cell_type": "markdown",
   "metadata": {},
   "source": [
    "_**Python Assigment Unit-1**_ \n",
    "                                                               \n"
   ]
  },
  {
   "cell_type": "code",
   "execution_count": 6,
   "metadata": {},
   "outputs": [
    {
     "name": "stdin",
     "output_type": "stream",
     "text": [
      "Enter number:  11\n"
     ]
    },
    {
     "name": "stdout",
     "output_type": "stream",
     "text": [
      "11 is a  Odd\n"
     ]
    }
   ],
   "source": [
    "# 1.\tWrite a Python function to check if a given number is even or odd and return the result.\n",
    "\n",
    "def checkNumber(num):\n",
    "    if((num % 2) == 0):\n",
    "        return \"Even\"\n",
    "    else:\n",
    "        return \"Odd\"\n",
    "\n",
    "def main():\n",
    "    num = int(input(\"Enter number: \"))\n",
    "\n",
    "    print(num, \"is a \", checkNumber(num))\n",
    "\n",
    "if __name__ == '__main__':\n",
    "    main()\n",
    "        "
   ]
  },
  {
   "cell_type": "code",
   "execution_count": 10,
   "metadata": {},
   "outputs": [
    {
     "name": "stdin",
     "output_type": "stream",
     "text": [
      "Enter the age:  19\n"
     ]
    },
    {
     "name": "stdout",
     "output_type": "stream",
     "text": [
      "You are Eligible for vote.\n"
     ]
    }
   ],
   "source": [
    "# 2.\tCreate a program that prompts the user for their age and uses a function to determine if they are eligible to vote (18 years or older).\n",
    "\n",
    "def checkEligibility(age):\n",
    "    if(age >= 18):\n",
    "        return True\n",
    "    else:\n",
    "        return False\n",
    "\n",
    "def main():\n",
    "    age = int(input(\"Enter the age: \"))\n",
    "\n",
    "    if(checkEligibility(age)):\n",
    "        print(\"You are Eligible for vote.\")\n",
    "    else:\n",
    "        print(\"You are not Eligible for vote.\")\n",
    "\n",
    "if __name__ == '__main__':\n",
    "    main()"
   ]
  },
  {
   "cell_type": "code",
   "execution_count": 1,
   "metadata": {},
   "outputs": [
    {
     "name": "stdin",
     "output_type": "stream",
     "text": [
      "Enter number:  100\n",
      "Wants to enter more numbers press 'Y':  Y\n",
      "Enter number:  101\n",
      "Wants to enter more numbers press 'Y':  Y\n",
      "Enter number:  1\n",
      "Wants to enter more numbers press 'Y':  Y\n",
      "Enter number:  2\n",
      "Wants to enter more numbers press 'Y':  y\n",
      "Enter number:  3\n",
      "Wants to enter more numbers press 'Y':  y\n",
      "Enter number:  4\n",
      "Wants to enter more numbers press 'Y':  Y\n",
      "Enter number:  5\n",
      "Wants to enter more numbers press 'Y':  E\n"
     ]
    },
    {
     "name": "stdout",
     "output_type": "stream",
     "text": [
      "\n",
      " Entered List is:  100 101 1 2 3 4 5 \n",
      "Sum is:  216\n"
     ]
    }
   ],
   "source": [
    "#3.\tWrite a Python function that takes a list of numbers as input and returns the sum of all the numbers\n",
    "\n",
    "def sumNumbers(lt):\n",
    "    sum = 0\n",
    "    for num in lt:\n",
    "        sum += num\n",
    "    return sum\n",
    "\n",
    "def displayList(lt):\n",
    "    for num in lt:\n",
    "        print(num, end = \" \")\n",
    "        \n",
    "def main():\n",
    "    lt = list()\n",
    "    \n",
    "    while(True):\n",
    "        num = int(input(\"Enter number: \"))\n",
    "        lt.append(num)\n",
    "        \n",
    "        check = input(\"Wants to enter more numbers press 'Y': \")\n",
    "        if(check == 'Y' or check == 'y'):\n",
    "            continue\n",
    "        else:\n",
    "            break\n",
    "\n",
    "    print(\"\\n Entered List is: \", end = \" \")\n",
    "    displayList(lt)\n",
    "    print(\"\\nSum is: \", sumNumbers(lt))\n",
    "    \n",
    "\n",
    "if __name__ == '__main__':\n",
    "    main()"
   ]
  },
  {
   "cell_type": "code",
   "execution_count": 1,
   "metadata": {},
   "outputs": [
    {
     "name": "stdin",
     "output_type": "stream",
     "text": [
      "Enter the number:  679\n"
     ]
    },
    {
     "name": "stdout",
     "output_type": "stream",
     "text": [
      "Number is Positive.\n"
     ]
    }
   ],
   "source": [
    "# 4.\tDevelop a program that uses a function to check if a given number is positive, negative, or zero.\n",
    "\n",
    "def checkNumber(num):\n",
    "    if(num == 0):\n",
    "        print(\"Number is Zero.\")\n",
    "    elif(num > 0):\n",
    "        print(\"Number is Positive.\")\n",
    "    else:\n",
    "        print(\"Number is Negative.\")\n",
    "\n",
    "def main():\n",
    "    num = int(input(\"Enter the number: \"))\n",
    "    checkNumber(num)\n",
    "\n",
    "if __name__ == \"__main__\":\n",
    "    main()"
   ]
  },
  {
   "cell_type": "code",
   "execution_count": 9,
   "metadata": {},
   "outputs": [
    {
     "name": "stdin",
     "output_type": "stream",
     "text": [
      "Enter number1:  12\n",
      "Enter number2:  132\n",
      "'\n",
      "1. Addition\n",
      "2. Subtraction\n",
      "3. Multiply\n",
      "4. Division\n",
      "Enter: \n",
      " 3\n"
     ]
    },
    {
     "name": "stdout",
     "output_type": "stream",
     "text": [
      "1584.0\n"
     ]
    }
   ],
   "source": [
    "# 5.\tCreate a Python module named \"calculator\" containing functions for addition, subtraction, multiplication, and division. \n",
    "#       Import this module into your main program and use its functions.\n",
    "import calculator\n",
    "\n",
    "num1 = float(input(\"Enter number1: \"))\n",
    "num2 = float(input(\"Enter number2: \"))\n",
    "             \n",
    "choice = int(input(\n",
    "''''\n",
    "1. Addition\n",
    "2. Subtraction\n",
    "3. Multiply\n",
    "4. Division\n",
    "Enter: \n",
    "'''))\n",
    "\n",
    "print(\"Result is: \", end = \" \")\n",
    "if(choice == 1):\n",
    "    print(calculator.addition(num1, num2))\n",
    "elif(choice == 2):\n",
    "    print(calculator.subtraction(num1, num2))\n",
    "elif(choice == 3):\n",
    "    print(calculator.multiply(num1, num2))\n",
    "elif(choice == 4):\n",
    "    print(calculator.division(num1, num2))\n",
    "else:\n",
    "    print(\"No such choice !!\")\n"
   ]
  },
  {
   "cell_type": "code",
   "execution_count": null,
   "metadata": {},
   "outputs": [],
   "source": []
  }
 ],
 "metadata": {
  "kernelspec": {
   "display_name": "Python 3 (ipykernel)",
   "language": "python",
   "name": "python3"
  },
  "language_info": {
   "codemirror_mode": {
    "name": "ipython",
    "version": 3
   },
   "file_extension": ".py",
   "mimetype": "text/x-python",
   "name": "python",
   "nbconvert_exporter": "python",
   "pygments_lexer": "ipython3",
   "version": "3.10.13"
  }
 },
 "nbformat": 4,
 "nbformat_minor": 4
}
