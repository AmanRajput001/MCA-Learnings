{
 "cells": [
  {
   "cell_type": "markdown",
   "metadata": {},
   "source": [
    "**Why Python is named as python ?**\n",
    "\n",
    "The python programming was named after the british comedy troupe monty python flying circus.  \n",
    "The creator of python Guido van Rosssum thought the name was short, unique and slightly mysterious.\n"
   ]
  },
  {
   "cell_type": "markdown",
   "metadata": {},
   "source": [
    "**In Which language python was written ?**\n",
    "\n",
    "Python was written in C programming language."
   ]
  },
  {
   "cell_type": "markdown",
   "metadata": {},
   "source": [
    "**Write a python program to print the following string in a specific format (see the output).** \n",
    "\n",
    "Output:\n",
    " \n",
    "    Twinkle, twinkle, little star,\n",
    "\t\tHow I wonder what you are! \n",
    "\t\t\tUp above the world so high,   \t\t\n",
    "\t\t\tLike a diamond in the sky. \n",
    "\tTwinkle, twinkle, little star, \n",
    "\t\tHow I wonder what you are"
   ]
  },
  {
   "cell_type": "code",
   "execution_count": 7,
   "metadata": {},
   "outputs": [
    {
     "name": "stdout",
     "output_type": "stream",
     "text": [
      "Twinkle, twinkle, little star,\n",
      "\t\tHow I wonder what you are! \n",
      "\t\t\tUp above the world so high,   \t\t\n",
      "\t\t\tLike a diamond in the sky. \n",
      "\tTwinkle, twinkle, little star, \n",
      "\t\tHow I wonder what you are\n"
     ]
    }
   ],
   "source": [
    "# way to declare string\n",
    "str2 = '''Twinkle, twinkle, little star,\n",
    "\t\tHow I wonder what you are! \n",
    "\t\t\tUp above the world so high,   \t\t\n",
    "\t\t\tLike a diamond in the sky. \n",
    "\tTwinkle, twinkle, little star, \n",
    "\t\tHow I wonder what you are'''\n",
    "print(str2)"
   ]
  },
  {
   "cell_type": "markdown",
   "metadata": {},
   "source": [
    "**What will be the Output of the following code:**\n",
    "\n",
    "    yellow = red\n",
    "    print(\"yellow\")"
   ]
  },
  {
   "cell_type": "code",
   "execution_count": 4,
   "metadata": {},
   "outputs": [
    {
     "ename": "NameError",
     "evalue": "name 'red' is not defined",
     "output_type": "error",
     "traceback": [
      "\u001b[1;31m---------------------------------------------------------------------------\u001b[0m",
      "\u001b[1;31mNameError\u001b[0m                                 Traceback (most recent call last)",
      "Cell \u001b[1;32mIn[4], line 1\u001b[0m\n\u001b[1;32m----> 1\u001b[0m yellow \u001b[38;5;241m=\u001b[39m \u001b[43mred\u001b[49m \n\u001b[0;32m      2\u001b[0m \u001b[38;5;28mprint\u001b[39m(\u001b[38;5;124m\"\u001b[39m\u001b[38;5;124myellow\u001b[39m\u001b[38;5;124m\"\u001b[39m)\n",
      "\u001b[1;31mNameError\u001b[0m: name 'red' is not defined"
     ]
    }
   ],
   "source": [
    "yellow = red \n",
    "print(\"yellow\")"
   ]
  },
  {
   "cell_type": "markdown",
   "metadata": {},
   "source": [
    "**Create a simple chat bot using python language.**"
   ]
  },
  {
   "cell_type": "code",
   "execution_count": 9,
   "metadata": {},
   "outputs": [
    {
     "name": "stdout",
     "output_type": "stream",
     "text": [
      "Hello, sir !!\n",
      "---------------------You Details-----------------------\n",
      "Your name is Aman Rajput, and you are born on 01-10-2002. \n",
      "You like to play Badminton and\n",
      " your fav color is Blue and fav food is Pizza.\n",
      "\n",
      " Good Bye !!\n"
     ]
    }
   ],
   "source": [
    "print(\"Hello, sir !!\")\n",
    "name = input(\"What is your name ? \")\n",
    "dob = input(f\"So, {name} what is your date date of birth ? \")\n",
    "fav_food = input(\"Tell me your fav food ? \")\n",
    "fav_color = input(\"Tell me your fav color ? \")\n",
    "fav_sports = input(\"Which sports do u like ? \")\n",
    "\n",
    "print(\"---------------------You Details-----------------------\")\n",
    "print(f\"Your name is {name}, and you are born on {dob}. \\nYou like to play {fav_sports} and\\n your fav color is {fav_color} and fav food is {fav_food}.\\n\\n Good Bye !!\")"
   ]
  },
  {
   "cell_type": "markdown",
   "metadata": {},
   "source": [
    "**While looping through a string banana, it give me output everytime in new line, how to print it in same line.**\n",
    "\n",
    "    for x in \"banana\":\n",
    "        print(x)"
   ]
  },
  {
   "cell_type": "code",
   "execution_count": 16,
   "metadata": {},
   "outputs": [
    {
     "name": "stdout",
     "output_type": "stream",
     "text": [
      "banana"
     ]
    }
   ],
   "source": [
    "'''\n",
    "for x in \"banana\":\n",
    "    print(x)\n",
    "'''\n",
    "\n",
    "# To print it in same line we can use print(\"<value>\", end = \"\") by default it is print(\"<value>\", end = \"\\n\")\n",
    "for x in \"banana\":\n",
    "    print(x, end= \"\")"
   ]
  },
  {
   "cell_type": "markdown",
   "metadata": {},
   "source": [
    "**Write a program to add two numbers.**"
   ]
  },
  {
   "cell_type": "code",
   "execution_count": 14,
   "metadata": {},
   "outputs": [
    {
     "name": "stdout",
     "output_type": "stream",
     "text": [
      "Numbers are:  1 and 2\n",
      "sum is : 3\n"
     ]
    }
   ],
   "source": [
    "num1 = int(input(\"Enter num1: \"))\n",
    "num2 = int(input(\"Enter num2: \"))\n",
    "\n",
    "print(f\"Numbers are:  {num1} and {num2}\")\n",
    "\n",
    "print(f\"sum is : {num1 + num2}\")"
   ]
  },
  {
   "cell_type": "markdown",
   "metadata": {},
   "source": [
    "**What is Python?**\n",
    "\n",
    "Python is an interpreted, object-oriented, high-level programming language with dynamic semantics. Its high-level built in data structures, combined with dynamic typing and dynamic binding, make it very attractive for Rapid Application Development, as well as for use as a scripting or glue language to connect existing components together. Python's simple, easy to learn syntax emphasizes readability and therefore reduces the cost of program maintenance."
   ]
  },
  {
   "cell_type": "markdown",
   "metadata": {},
   "source": [
    "**Explain python is an interpreted langyage.**\n",
    "\n",
    "Python is an interpreted language, which means the source code of a Python program is converted into bytecode that is then executed by the Python virtual machine. Python is different from major compiled languages, such as C and C , as Python code is not required to be built and linked like code for these languages. "
   ]
  },
  {
   "cell_type": "markdown",
   "metadata": {},
   "source": [
    "**What are Key features of python ?**\n",
    "\n",
    "1. Portable Language\n",
    "2. Standard Library\n",
    "3. High-Level Language\n",
    "4. Easy to learn and use\n",
    "5. Dynamic Language\n",
    "6. Extensible Language\n",
    "7.  Object-Oriented Programming Language\n",
    "8. Free and Open-source libraries"
   ]
  },
  {
   "cell_type": "markdown",
   "metadata": {},
   "source": [
    "**How memory is managed in python ?**\n",
    "\n",
    "Python uses a technique called reference counting to keep track of objects in memory. Each object in Python has a reference count associated with it, which is incremented whenever a new reference to the object is created, and decremented whenever a reference to the object is deleted or goes out of scope. When an object’s reference count reaches zero, it means that there are no more references to the object, and the memory occupied by the object can be freed"
   ]
  },
  {
   "cell_type": "markdown",
   "metadata": {},
   "source": [
    "**What are python modules ?**\n",
    "\n",
    "we can consider a module to be the same as a code library or a file that contains a set of functions that you want to include in your application.In Python, Modules are simply files with the “. py” extension containing Python code that can be imported inside another Python Program."
   ]
  },
  {
   "cell_type": "markdown",
   "metadata": {},
   "source": [
    "**Write a Lottery program in python.**"
   ]
  },
  {
   "cell_type": "code",
   "execution_count": 18,
   "metadata": {},
   "outputs": [
    {
     "name": "stdout",
     "output_type": "stream",
     "text": [
      "Generated number is : 69\n",
      "You entered number is : 78\n",
      "Hurry!! You win Lottery.\n"
     ]
    }
   ],
   "source": [
    "#importing random \n",
    "import random \n",
    "\n",
    "# generating random number \n",
    "cnum = random.randrange(1,100) # with in a range 1-100\n",
    "\n",
    "#Taking user input an number\n",
    "unum = int(input(\"Enter a number (1-100): \"))\n",
    "\n",
    "print(f\"Generated number is : {cnum}\")\n",
    "print(f\"You entered number is : {unum}\")\n",
    "\n",
    "if(cnum < unum):\n",
    "    print(\"Hurry!! You win Lottery.\")\n",
    "elif(unum > cnum):\n",
    "    print(\"Oops, U loose.\")\n",
    "else:\n",
    "    print(\"It's a draw.\")"
   ]
  },
  {
   "cell_type": "markdown",
   "metadata": {},
   "source": [
    "**Write a advance Lottery program in python.**"
   ]
  },
  {
   "cell_type": "code",
   "execution_count": 2,
   "metadata": {},
   "outputs": [
    {
     "name": "stdout",
     "output_type": "stream",
     "text": [
      "Generated numbers are : [48, 99, 57, 26, 9]\n",
      "Your entered numbers are : [55, 67, 69, 43, 34]\n",
      "You won 0 prizes.\n"
     ]
    }
   ],
   "source": [
    "#importing random \n",
    "import random \n",
    "\n",
    "ls = list()\n",
    "uls = list()\n",
    "\n",
    "i=1\n",
    "while(i <= 5):\n",
    "    # generating random number \n",
    "    ls.append(random.randrange(1,100)) # with in a range 1-100\n",
    "    i+=1\n",
    "\n",
    "i=1\n",
    "while(i <= 5):\n",
    "    #Taking user input an number\n",
    "    uls.append(int(input(f\"Enter a number{i} (1-100): \")))\n",
    "    i+=1\n",
    "\n",
    "print(f\"Generated numbers are : {ls}\")\n",
    "print(f\"Your entered numbers are : {uls}\")\n",
    "\n",
    "count = 0\n",
    "for comp in ls:\n",
    "    for user in uls:\n",
    "        if(comp == user):\n",
    "            count+=1\n",
    "\n",
    "print(f\"You won {count} prizes.\")\n",
    "\n"
   ]
  },
  {
   "cell_type": "markdown",
   "metadata": {},
   "source": [
    "**What is difference in scripting and programming language.**"
   ]
  },
  {
   "cell_type": "code",
   "execution_count": null,
   "metadata": {},
   "outputs": [],
   "source": []
  }
 ],
 "metadata": {
  "kernelspec": {
   "display_name": "Python 3",
   "language": "python",
   "name": "python3"
  },
  "language_info": {
   "codemirror_mode": {
    "name": "ipython",
    "version": 3
   },
   "file_extension": ".py",
   "mimetype": "text/x-python",
   "name": "python",
   "nbconvert_exporter": "python",
   "pygments_lexer": "ipython3",
   "version": "3.8.10"
  }
 },
 "nbformat": 4,
 "nbformat_minor": 2
}
